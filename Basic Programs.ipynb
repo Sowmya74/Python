{
 "cells": [
  {
   "cell_type": "markdown",
   "id": "71de45ad",
   "metadata": {},
   "source": [
    "Python basic programs"
   ]
  },
  {
   "cell_type": "code",
   "execution_count": 1,
   "id": "2d0d2560",
   "metadata": {},
   "outputs": [
    {
     "name": "stdout",
     "output_type": "stream",
     "text": [
      "Hello Python\n"
     ]
    }
   ],
   "source": [
    "print('Hello Python')"
   ]
  },
  {
   "cell_type": "markdown",
   "id": "78cd835a",
   "metadata": {},
   "source": [
    "Python program to do arithmetical operations"
   ]
  },
  {
   "cell_type": "code",
   "execution_count": 2,
   "id": "077bc6eb",
   "metadata": {},
   "outputs": [
    {
     "name": "stdout",
     "output_type": "stream",
     "text": [
      "Add = 16, Sub = 2, Mul = 63, Div = 1.2857142857142858, Exp = 1, Squ=4782969\n"
     ]
    }
   ],
   "source": [
    "a = 9\n",
    "b = 7\n",
    "c = a+b\n",
    "d = a*b\n",
    "e = a-b\n",
    "f= a/b\n",
    "g = a//b\n",
    "h = a**b\n",
    "print('Add = {0}, Sub = {1}, Mul = {2}, Div = {3}, Exp = {4}, Squ={5}'.format(c,e,d,f,g,h))"
   ]
  },
  {
   "cell_type": "markdown",
   "id": "d0a2a5c7",
   "metadata": {},
   "source": [
    "Python program to find the area of a triangle\n"
   ]
  },
  {
   "cell_type": "code",
   "execution_count": 3,
   "id": "19a331a0",
   "metadata": {},
   "outputs": [
    {
     "name": "stdout",
     "output_type": "stream",
     "text": [
      "Breadth of the triangle3\n",
      "Height of the triangle5\n",
      "Area of the traingle using breadth and height: 7.5\n"
     ]
    }
   ],
   "source": [
    "breadth = int(input(\"Breadth of the triangle\"))\n",
    "height = int(input(\"Height of the triangle\"))\n",
    "area = (breadth*height)/2\n",
    "print(\"Area of the traingle using breadth and height: {0}\".format(area))"
   ]
  },
  {
   "cell_type": "markdown",
   "id": "5bf2d3a6",
   "metadata": {},
   "source": [
    "Area of a triangle = (s*(s-a)*(s-b)*(s-c))-1/2"
   ]
  },
  {
   "cell_type": "code",
   "execution_count": 18,
   "id": "f9da07b9",
   "metadata": {},
   "outputs": [
    {
     "name": "stdout",
     "output_type": "stream",
     "text": [
      "Side_a = 5\n",
      "Side_b = 6\n",
      "Side_c = 7\n",
      "Area of the traingle using sides = 14.69694\n"
     ]
    }
   ],
   "source": [
    "side_a = float(input(\"Side_a = \"))\n",
    "side_b = float(input(\"Side_b = \"))\n",
    "side_c = float(input(\"Side_c = \"))\n",
    "\n",
    "semi_p = (side_a + side_b + side_c)/2\n",
    "area = (semi_p * (semi_p - side_a)*(semi_p - side_b)*(semi_p - side_c)) **0.5\n",
    "print('Area of the traingle using sides = %0.5f'%area)"
   ]
  },
  {
   "cell_type": "markdown",
   "id": "d4dafca3",
   "metadata": {},
   "source": [
    "Python program to solve quadratic equation"
   ]
  },
  {
   "cell_type": "markdown",
   "id": "77b76774",
   "metadata": {},
   "source": [
    "ax2+bx+c=0"
   ]
  },
  {
   "cell_type": "code",
   "execution_count": 20,
   "id": "02baac7c",
   "metadata": {},
   "outputs": [
    {
     "name": "stdout",
     "output_type": "stream",
     "text": [
      "Enter A: 8\n",
      "Enter B: 5\n",
      "Enter C: 9\n",
      "X values are: (-0.3125-1.0135796712641785j)(-0.3125+1.0135796712641785j)\n"
     ]
    }
   ],
   "source": [
    "import cmath\n",
    "a= int(input(\"Enter A: \"))\n",
    "b = int(input('Enter B: '))\n",
    "c = int(input(\"Enter C: \"))\n",
    "d = (b**2) - (4*a*c)\n",
    "s1 = (-b -cmath.sqrt(d))/(2*a)\n",
    "s2 = (-b +cmath.sqrt(d))/(2*a)\n",
    "print(\"X values are: {0}{1}\".format(s1,s2))"
   ]
  },
  {
   "cell_type": "code",
   "execution_count": 25,
   "id": "1a219172",
   "metadata": {},
   "outputs": [
    {
     "name": "stdout",
     "output_type": "stream",
     "text": [
      "Enter a:0\n",
      "Enter b:5\n",
      "Enter c:2\n",
      "Input correct quadratic equation\n"
     ]
    }
   ],
   "source": [
    "\n",
    "import math  \n",
    "# function for finding roots  \n",
    "def findRoots(a, b, c):  \n",
    "  \n",
    "    d = b * b - 4 * a * c  \n",
    "    sqrt_val = math.sqrt(abs(d))  \n",
    "  \n",
    "  \n",
    "    if d > 0:  \n",
    "        print(\" real and different roots \")  \n",
    "        print((-b + sqrt_val) / (2 * a))  \n",
    "        print((-b - sqrt_val) / (2 * a))  \n",
    "  \n",
    "    elif d == 0:  \n",
    "        print(\" real and same roots\")  \n",
    "        print(-b / (2 * a))  \n",
    "  \n",
    "  \n",
    "    else:  \n",
    "        print(\"Complex Roots\")  \n",
    "        print(- b / (2 * a), \" + i\", sqrt_val)  \n",
    "        print(- b / (2 * a), \" - i\", sqrt_val)  \n",
    "  \n",
    "  \n",
    "a = int(input('Enter a:'))  \n",
    "b = int(input('Enter b:'))  \n",
    "c = int(input('Enter c:'))  \n",
    "  \n",
    "# If a is 0, then incorrect equation  \n",
    "if a == 0:  \n",
    "    print(\"Input correct quadratic equation\")  \n",
    "  \n",
    "else:  \n",
    "    findRoots(a, b, c)  "
   ]
  },
  {
   "cell_type": "markdown",
   "id": "0842c7bc",
   "metadata": {},
   "source": [
    "Python program to swap two variables"
   ]
  },
  {
   "cell_type": "code",
   "execution_count": 30,
   "id": "0f3bc1e2",
   "metadata": {},
   "outputs": [
    {
     "name": "stdout",
     "output_type": "stream",
     "text": [
      "Variable a: 10\n",
      "Varibale b: 20\n",
      "Swapping of a and b gives: a = 20, b = 10\n",
      "20\n",
      "10\n"
     ]
    }
   ],
   "source": [
    "a = int(input(\"Variable a: \"))\n",
    "b = int(input(\"Varibale b: \"))\n",
    "\n",
    "c = a\n",
    "a = b\n",
    "b = c\n",
    "print(\"Swapping of a and b gives: a = {0}, b = {1}\".format(a,b))\n",
    "print(a)\n",
    "print(b)\n"
   ]
  },
  {
   "cell_type": "markdown",
   "id": "4538b201",
   "metadata": {},
   "source": [
    "Python program to generate a random number"
   ]
  },
  {
   "cell_type": "code",
   "execution_count": 45,
   "id": "44b12d51",
   "metadata": {},
   "outputs": [
    {
     "name": "stdout",
     "output_type": "stream",
     "text": [
      "0.2861671221983626 31\n"
     ]
    }
   ],
   "source": [
    "import random\n",
    "n1 = random.random()     #Random number between 0 and 1 will be given\n",
    "n = random.randint(0,50) #Random number between 0 and 50 will be given\n",
    "print(n1,n)\n"
   ]
  },
  {
   "cell_type": "markdown",
   "id": "3816fe50",
   "metadata": {},
   "source": [
    "Python program to convert Kilometres to Miles"
   ]
  },
  {
   "cell_type": "code",
   "execution_count": 47,
   "id": "6c4b2dd4",
   "metadata": {},
   "outputs": [
    {
     "name": "stdout",
     "output_type": "stream",
     "text": [
      "Enter Km (K) /Mile (M) to convert: K\n",
      "Enter the Value: 16\n",
      "16.0 kilometers in Miles is 9.94192\n"
     ]
    }
   ],
   "source": [
    "n = str(input(\"Enter Km (K) /Mile (M) to convert: \"))\n",
    "num = float(input(\"Enter the Value: \"))\n",
    "\n",
    "if n == 'K' or n == 'k':\n",
    "    miles = num*0.62137\n",
    "    print(\"{0} kilometers in Miles is {1}\".format(num,miles))\n",
    "elif n == \"M\" or n == \"m\":\n",
    "    km = num/0.62137\n",
    "    print(\"{0} miles in Kilometers is {1}\".format(num,km))\n",
    "else:\n",
    "    print(\"Enter K or M\")\n"
   ]
  },
  {
   "cell_type": "markdown",
   "id": "3c7df2cd",
   "metadata": {},
   "source": [
    "Python program to convert Celsius to Fahrenheit"
   ]
  },
  {
   "cell_type": "code",
   "execution_count": 53,
   "id": "105001d0",
   "metadata": {},
   "outputs": [
    {
     "name": "stdout",
     "output_type": "stream",
     "text": [
      "Enter Celsius (C) / Fahrenheit (F): F\n",
      "Enter the Value: 113\n",
      "113.0 Fahrenheit in Celsius is 45.0\n"
     ]
    }
   ],
   "source": [
    "n = str(input(\"Enter Celsius (C) / Fahrenheit (F): \"))\n",
    "num = float(input(\"Enter the Value: \"))\n",
    "\n",
    "if n == 'C' or n == 'c':\n",
    "    fahrenheit = (num/1.8)+32\n",
    "    print(\"{0} Celsius in Fahrenheit is {1}\".format(num,fahrenheit))\n",
    "elif n == \"F\" or n == \"f\":\n",
    "    celsius = (num-32)/1.8\n",
    "    print(\"{0} Fahrenheit in Celsius is {1}\".format(num,celsius))\n",
    "else:\n",
    "    print(\"Enter C or F\")\n"
   ]
  },
  {
   "cell_type": "markdown",
   "id": "7026dd24",
   "metadata": {},
   "source": [
    "Python program to display calendar"
   ]
  },
  {
   "cell_type": "code",
   "execution_count": 54,
   "id": "2f1745cb",
   "metadata": {},
   "outputs": [
    {
     "name": "stdout",
     "output_type": "stream",
     "text": [
      "Month: 8\n",
      "Year: 2023\n",
      "    August 2023\n",
      "Mo Tu We Th Fr Sa Su\n",
      "    1  2  3  4  5  6\n",
      " 7  8  9 10 11 12 13\n",
      "14 15 16 17 18 19 20\n",
      "21 22 23 24 25 26 27\n",
      "28 29 30 31\n",
      "\n"
     ]
    }
   ],
   "source": [
    "import calendar\n",
    "month = int(input(\"Month: \"))\n",
    "year = int(input(\"Year: \"))\n",
    "print(calendar.month(year,month))"
   ]
  },
  {
   "cell_type": "markdown",
   "id": "34cbd093",
   "metadata": {},
   "source": [
    "Python Program to check if a Number is Positive, Negative or Zero"
   ]
  },
  {
   "cell_type": "code",
   "execution_count": 65,
   "id": "080ebc11",
   "metadata": {},
   "outputs": [
    {
     "name": "stdout",
     "output_type": "stream",
     "text": [
      "Enter the real number: -5\n",
      "-5 is negative\n"
     ]
    }
   ],
   "source": [
    "\n",
    "def check_number(n):\n",
    "    if n>0:\n",
    "     print(\"{0} is positive\".format(n))\n",
    "    elif n<0:\n",
    "     print(\"{0} is negative\".format(n))\n",
    "    else:\n",
    "     print(\"{0} is Zero\".format(n))\n",
    "\n",
    "n = int(input(\"Enter the real number: \"))\n",
    "check_number(n)\n",
    "    "
   ]
  },
  {
   "cell_type": "markdown",
   "id": "a2938436",
   "metadata": {},
   "source": [
    "Python Program to Check if a Number is Odd or Even"
   ]
  },
  {
   "cell_type": "code",
   "execution_count": 73,
   "id": "2f5a7830",
   "metadata": {},
   "outputs": [
    {
     "name": "stdout",
     "output_type": "stream",
     "text": [
      "Enter number: 133\n",
      "133 is Odd\n"
     ]
    }
   ],
   "source": [
    "def even_or_odd(n):\n",
    "    if n%2 == 0:\n",
    "        print(\"{0} is Even\".format(n))\n",
    "    elif n%2!=0:\n",
    "        print(\"{0} is Odd\".format(n))\n",
    "    else:\n",
    "        print(\"Invalid\")\n",
    "n = int(input(\"Enter number: \"))\n",
    "even_or_odd(n)"
   ]
  },
  {
   "cell_type": "markdown",
   "id": "c1fcc14a",
   "metadata": {},
   "source": [
    "Python Program to Check Leap Year"
   ]
  },
  {
   "cell_type": "code",
   "execution_count": 76,
   "id": "3812b85d",
   "metadata": {},
   "outputs": [
    {
     "name": "stdout",
     "output_type": "stream",
     "text": [
      "Enter year: 1700\n",
      "1700 is not a leap year\n"
     ]
    }
   ],
   "source": [
    "def check_leap(n):\n",
    "    if n%4 == 0:\n",
    "        if n%100 ==0:\n",
    "            if n%400 == 0:\n",
    "              print(\"{0} is a leap year\".format(n))\n",
    "            else:\n",
    "                print(\"{0} is not a leap year\".format(n))\n",
    "        else:\n",
    "            print(\"{0} is a leap year\".format(n))\n",
    "    else:\n",
    "        print(\"{0} is not a leap year\".format(n))\n",
    "n = int(input(\"Enter year: \"))\n",
    "check_leap(n)"
   ]
  },
  {
   "cell_type": "markdown",
   "id": "89276606",
   "metadata": {},
   "source": [
    "Python Program to Check Prime Number"
   ]
  },
  {
   "cell_type": "code",
   "execution_count": 92,
   "id": "6abef1d1",
   "metadata": {},
   "outputs": [
    {
     "name": "stdout",
     "output_type": "stream",
     "text": [
      "Enter an input number:7\n",
      "7 is a prime number\n"
     ]
    }
   ],
   "source": [
    "def check_prime(n):  \n",
    "    if n > 1:  \n",
    "        for i in range(2, int(n/2) + 1):   \n",
    "            if (n % i) == 0:  \n",
    "                print(a,\"is not a prime number\")  \n",
    "                break  \n",
    "        else:  \n",
    "            print(n,\"is a prime number\")  \n",
    "    else:\n",
    "         print(n,\"is not a prime number\")  \n",
    "\n",
    "n = int(input(\"Enter an input number:\"))  \n",
    "check_prime(n)  "
   ]
  },
  {
   "cell_type": "markdown",
   "id": "a829aa1d",
   "metadata": {},
   "source": [
    "Python Program to Print all Prime Numbers in an Interval"
   ]
  },
  {
   "cell_type": "code",
   "execution_count": 93,
   "id": "04af1d9e",
   "metadata": {},
   "outputs": [
    {
     "name": "stdout",
     "output_type": "stream",
     "text": [
      "Please, Enter the Lowest Range Value: 7\n",
      "Please, Enter the Upper Range Value: 41\n",
      "The Prime Numbers in the range are: \n",
      "7\n",
      "11\n",
      "13\n",
      "17\n",
      "19\n",
      "23\n",
      "29\n",
      "31\n",
      "37\n",
      "41\n"
     ]
    }
   ],
   "source": [
    "lower_value = int(input (\"Please, Enter the Lowest Range Value: \"))  \n",
    "upper_value = int(input (\"Please, Enter the Upper Range Value: \"))  \n",
    "  \n",
    "print (\"The Prime Numbers in the range are: \")  \n",
    "for number in range (lower_value, upper_value + 1):  \n",
    "    if number > 1:  \n",
    "        for i in range (2, number):  \n",
    "            if (number % i) == 0:  \n",
    "                break  \n",
    "        else:  \n",
    "            print (number)  "
   ]
  },
  {
   "cell_type": "markdown",
   "id": "dfa82270",
   "metadata": {},
   "source": [
    "Python Program to Find the Factorial of a Number"
   ]
  },
  {
   "cell_type": "code",
   "execution_count": 96,
   "id": "5eb4a8f7",
   "metadata": {},
   "outputs": [
    {
     "name": "stdout",
     "output_type": "stream",
     "text": [
      "Enter a Factor: 5\n",
      "120\n"
     ]
    }
   ],
   "source": [
    "n = int(input(\"Enter a Factor: \"))\n",
    "fact =1\n",
    "for i in range(1,n+1):\n",
    "    fact = fact * i\n",
    "    \n",
    "print(fact)"
   ]
  },
  {
   "cell_type": "markdown",
   "id": "5068899c",
   "metadata": {},
   "source": [
    "Python Program to Display the multiplication Table"
   ]
  },
  {
   "cell_type": "code",
   "execution_count": 100,
   "id": "2bc15e2b",
   "metadata": {},
   "outputs": [
    {
     "name": "stdout",
     "output_type": "stream",
     "text": [
      "Enter a number: 7\n",
      "7 x 1 = 7\n",
      "7 x 2 = 14\n",
      "7 x 3 = 21\n",
      "7 x 4 = 28\n",
      "7 x 5 = 35\n",
      "7 x 6 = 42\n",
      "7 x 7 = 49\n",
      "7 x 8 = 56\n",
      "7 x 9 = 63\n",
      "7 x 10 = 70\n",
      "7 x 11 = 77\n",
      "7 x 12 = 84\n"
     ]
    }
   ],
   "source": [
    "n = int(input(\"Enter a number: \"))\n",
    "\n",
    "for i in range(1,13):\n",
    "    k = n*i\n",
    "    print(n, \"x\", i, \"=\", k)"
   ]
  },
  {
   "cell_type": "markdown",
   "id": "0d903f63",
   "metadata": {},
   "source": [
    "Python Program to Print the Fibonacci sequence"
   ]
  },
  {
   "cell_type": "code",
   "execution_count": 102,
   "id": "ad9526ed",
   "metadata": {},
   "outputs": [
    {
     "name": "stdout",
     "output_type": "stream",
     "text": [
      "Enter the number you want to print: 7\n",
      "0 1 1 2 3 5 8 "
     ]
    }
   ],
   "source": [
    "n = int(input (\"Enter the number you want to print: \"))     \n",
    "# Take input from user that how many numbers you want to print  \n",
    "a = 0    \n",
    "b = 1    \n",
    "for i in range(0,n):  \n",
    "    print(a, end = \" \")             # a:0;    a:1;       a:2  \n",
    "    c = a+b                     #c=0+1=1; c= 1+1=2;  c=1+2=3  \n",
    "    a = b               #a=1    ; a=1;       a=2  \n",
    "    b = c               #b=1    ; b=2;       b=3            \n"
   ]
  },
  {
   "cell_type": "markdown",
   "id": "fc929550",
   "metadata": {},
   "source": [
    "Python Program to check Armstrong Number"
   ]
  },
  {
   "cell_type": "code",
   "execution_count": 105,
   "id": "13d608de",
   "metadata": {},
   "outputs": [
    {
     "name": "stdout",
     "output_type": "stream",
     "text": [
      "Enter a number: 153\n",
      "153 is an Armstrong number\n"
     ]
    }
   ],
   "source": [
    "num = int(input(\"Enter a number: \"))\n",
    "\n",
    "# initialize sum\n",
    "sum = 0\n",
    "\n",
    "# find the sum of the cube of each digit\n",
    "temp = num\n",
    "while temp > 0:\n",
    "   digit = temp % 10\n",
    "   sum += digit ** 3\n",
    "   temp //= 10\n",
    "\n",
    "# display the result\n",
    "if num == sum:\n",
    "   print(num,\"is an Armstrong number\")\n",
    "else:\n",
    "   print(num,\"is not an Armstrong number\")"
   ]
  },
  {
   "cell_type": "markdown",
   "id": "7353e588",
   "metadata": {},
   "source": [
    "Python Program to Find the Sum of Natural Numbers"
   ]
  },
  {
   "cell_type": "code",
   "execution_count": 111,
   "id": "bc231bfe",
   "metadata": {},
   "outputs": [
    {
     "name": "stdout",
     "output_type": "stream",
     "text": [
      "Number:4\n",
      "1\n",
      "2\n",
      "3\n",
      "4\n",
      "SUm is:  10\n"
     ]
    }
   ],
   "source": [
    "n = int(input(\"Number:\"))\n",
    "sum = 0\n",
    "for i in range(1,n+1):\n",
    "    sum+= i\n",
    "    print(i)\n",
    "print(\"SUm is: \",sum)"
   ]
  },
  {
   "cell_type": "markdown",
   "id": "b3970893",
   "metadata": {},
   "source": [
    "https://www.javatpoint.com/python-programs"
   ]
  }
 ],
 "metadata": {
  "kernelspec": {
   "display_name": "Python 3 (ipykernel)",
   "language": "python",
   "name": "python3"
  },
  "language_info": {
   "codemirror_mode": {
    "name": "ipython",
    "version": 3
   },
   "file_extension": ".py",
   "mimetype": "text/x-python",
   "name": "python",
   "nbconvert_exporter": "python",
   "pygments_lexer": "ipython3",
   "version": "3.9.13"
  }
 },
 "nbformat": 4,
 "nbformat_minor": 5
}
