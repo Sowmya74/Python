{
 "cells": [
  {
   "cell_type": "markdown",
   "id": "e3f11342",
   "metadata": {},
   "source": [
    "JSON is a lightweight format that’s readable by humans and is used for transmitting data between servers and web applications, while CSV is a plain-text format that represents tabular data with comma-separated values, often employed for data storage in spreadsheets and databases.\n",
    "\n",
    "JSON to CSV conversion in Python is necessary to analyze or visualize JSON data using tabular data tools like Excel or SQL databases. "
   ]
  },
  {
   "cell_type": "code",
   "execution_count": null,
   "id": "b96a7ac3",
   "metadata": {},
   "outputs": [],
   "source": [
    "import json\n",
    "import csv\n",
    "import pandas as pd\n",
    "pip install json2csv\n"
   ]
  },
  {
   "cell_type": "markdown",
   "id": "270220e9",
   "metadata": {},
   "source": [
    "\n",
    "1. Open the JSON file and load its contents into a variable\n",
    "    input.json is the file and loaded its contents into the variable f\n",
    "2. Create a new CSV file\n",
    "3. Write each row of data from the JSON file into the CSV file\n"
   ]
  },
  {
   "cell_type": "code",
   "execution_count": null,
   "id": "6fbd8794",
   "metadata": {},
   "outputs": [],
   "source": [
    "#1\n",
    "if __name__ == '__main__':\n",
    "    try:\n",
    "        with open('input.json', 'r') as f:\n",
    "            data = json.loads(f.read())\n",
    "            output = ','.join([*data[0]])\n",
    "            for obj in data:\n",
    "                output+=f'\\n{obj[\"Name\"]}, {obj[\"age\"]}, {obj[\"birthyear\"]}'\n",
    "            \n",
    "            with open('output.csv', 'w') as f:\n",
    "                f.write(output)\n",
    "    except Exception as ex:\n",
    "        print(f'Error:{str(ex)}')\n",
    "    "
   ]
  },
  {
   "cell_type": "code",
   "execution_count": null,
   "id": "02039ae7",
   "metadata": {},
   "outputs": [],
   "source": [
    "#2\n",
    "with open('input.json', 'r') as json_file:\n",
    "    json_data = json.load(json_file)\n",
    "\n",
    "with open('output.csv', 'w', newline='') as csv_file:\n",
    "    writer = csv.writer(csv_file)\n",
    "    writer.writerow(json_data[0].keys())\n",
    " \n",
    "\n",
    "    for row in json_data:\n",
    "        writer.writerow(row.values())\n"
   ]
  },
  {
   "cell_type": "markdown",
   "id": "a578a679",
   "metadata": {},
   "source": [
    "\n",
    "* Necessary modules such as json and csv are imported\n",
    "* with statement is used to open the JSON file and load its contents into a variable using the json.load function\n",
    "* A new CSV file is created using the open() function and csv.writer() function. writerow() method is used to write the header row to the CSV file. The header row contains the keys from the first row of the JSON data.\n",
    "* The for loop is used to write each row of data from the JSON file into the CSV file using the writerow() method\n"
   ]
  },
  {
   "cell_type": "markdown",
   "id": "53d1f636",
   "metadata": {},
   "source": [
    "Using Pandas"
   ]
  },
  {
   "cell_type": "code",
   "execution_count": null,
   "id": "c0e2192b",
   "metadata": {},
   "outputs": [],
   "source": [
    "# Reading JSON data from a file\n",
    "with open(\"input.json\") as f:\n",
    "    json_data = json.load(f)\n",
    "\n",
    "# Converting JSON data to a pandas DataFrame\n",
    "df = pd.read_json(json_data)\n",
    "\n",
    "# Writing DataFrame to a CSV file\n",
    "df.to_csv(\"output.csv\", index=False)"
   ]
  },
  {
   "cell_type": "markdown",
   "id": "e82321b2",
   "metadata": {},
   "source": [
    "Using json2csv library"
   ]
  },
  {
   "cell_type": "code",
   "execution_count": null,
   "id": "3fce0e1c",
   "metadata": {},
   "outputs": [],
   "source": [
    "json2csv -i input.json -o output.csv"
   ]
  },
  {
   "cell_type": "markdown",
   "id": "75c8323f",
   "metadata": {},
   "source": [
    "More details on \"https://blog.enterprisedna.co/python-convert-json-to-csv/\""
   ]
  }
 ],
 "metadata": {
  "kernelspec": {
   "display_name": "Python 3 (ipykernel)",
   "language": "python",
   "name": "python3"
  },
  "language_info": {
   "codemirror_mode": {
    "name": "ipython",
    "version": 3
   },
   "file_extension": ".py",
   "mimetype": "text/x-python",
   "name": "python",
   "nbconvert_exporter": "python",
   "pygments_lexer": "ipython3",
   "version": "3.9.13"
  }
 },
 "nbformat": 4,
 "nbformat_minor": 5
}
